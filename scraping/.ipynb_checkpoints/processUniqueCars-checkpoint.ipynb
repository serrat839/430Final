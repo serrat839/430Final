{
 "cells": [
  {
   "cell_type": "code",
   "execution_count": 1,
   "metadata": {},
   "outputs": [],
   "source": [
    "import pandas as pd\n",
    "import json\n",
    "import requests\n",
    "import time\n",
    "import re\n",
    "from bs4 import BeautifulSoup"
   ]
  },
  {
   "cell_type": "code",
   "execution_count": 2,
   "metadata": {},
   "outputs": [],
   "source": [
    "headers = {\"User-Agent\": \"Mozilla/5.0 (Windows NT 10.0; Win64; x64) AppleWebKit/537.36 (KHTML, like Gecko) Chrome/90.0.4430.212 Safari/537.36\"}"
   ]
  },
  {
   "cell_type": "code",
   "execution_count": 20,
   "metadata": {},
   "outputs": [
    {
     "data": {
      "text/html": [
       "<div>\n",
       "<style scoped>\n",
       "    .dataframe tbody tr th:only-of-type {\n",
       "        vertical-align: middle;\n",
       "    }\n",
       "\n",
       "    .dataframe tbody tr th {\n",
       "        vertical-align: top;\n",
       "    }\n",
       "\n",
       "    .dataframe thead th {\n",
       "        text-align: right;\n",
       "    }\n",
       "</style>\n",
       "<table border=\"1\" class=\"dataframe\">\n",
       "  <thead>\n",
       "    <tr style=\"text-align: right;\">\n",
       "      <th></th>\n",
       "      <th>CarMake</th>\n",
       "      <th>CarModel</th>\n",
       "      <th>CarYear</th>\n",
       "      <th>CarPrice</th>\n",
       "      <th>CarCondition</th>\n",
       "      <th>MilesOnCar</th>\n",
       "      <th>PostingDate</th>\n",
       "      <th>PostingUrl</th>\n",
       "      <th>CarImageLink</th>\n",
       "      <th>PostingRegion</th>\n",
       "    </tr>\n",
       "  </thead>\n",
       "  <tbody>\n",
       "    <tr>\n",
       "      <th>444</th>\n",
       "      <td>Mitsubishi</td>\n",
       "      <td>Eclipse Cross</td>\n",
       "      <td>2022</td>\n",
       "      <td>22998.0</td>\n",
       "      <td>new</td>\n",
       "      <td>10</td>\n",
       "      <td>2021-05-23</td>\n",
       "      <td>https://kpr.craigslist.org/ctd/d/kennewick-202...</td>\n",
       "      <td>https://images.craigslist.org/00W0W_90ubo4k04K...</td>\n",
       "      <td>Kpr</td>\n",
       "    </tr>\n",
       "    <tr>\n",
       "      <th>227</th>\n",
       "      <td>Mitsubishi</td>\n",
       "      <td>Outlander SEL</td>\n",
       "      <td>2022</td>\n",
       "      <td>459.0</td>\n",
       "      <td>excellent</td>\n",
       "      <td>10</td>\n",
       "      <td>2021-05-21</td>\n",
       "      <td>https://bellingham.craigslist.org/ctd/d/spokan...</td>\n",
       "      <td>https://images.craigslist.org/00505_571ciMXtXg...</td>\n",
       "      <td>Bellingham</td>\n",
       "    </tr>\n",
       "    <tr>\n",
       "      <th>3211</th>\n",
       "      <td>Mitsubishi</td>\n",
       "      <td>Outlander SEL</td>\n",
       "      <td>2022</td>\n",
       "      <td>472.0</td>\n",
       "      <td>excellent</td>\n",
       "      <td>4</td>\n",
       "      <td>2021-05-18</td>\n",
       "      <td>https://wenatchee.craigslist.org/ctd/d/spokane...</td>\n",
       "      <td>https://images.craigslist.org/00Q0Q_3NSGPoZo8j...</td>\n",
       "      <td>Wenatchee</td>\n",
       "    </tr>\n",
       "    <tr>\n",
       "      <th>703</th>\n",
       "      <td>Nissan</td>\n",
       "      <td>Sentra SR</td>\n",
       "      <td>2021</td>\n",
       "      <td>25505.0</td>\n",
       "      <td>excellent</td>\n",
       "      <td>5</td>\n",
       "      <td>2021-05-21</td>\n",
       "      <td>https://kpr.craigslist.org/ctd/d/college-place...</td>\n",
       "      <td>https://images.craigslist.org/00z0z_3J4oABMmG1...</td>\n",
       "      <td>Kpr</td>\n",
       "    </tr>\n",
       "    <tr>\n",
       "      <th>2813</th>\n",
       "      <td>Jeep</td>\n",
       "      <td>Grand Cherokee</td>\n",
       "      <td>2021</td>\n",
       "      <td>74977.0</td>\n",
       "      <td>good</td>\n",
       "      <td>66</td>\n",
       "      <td>2021-05-22</td>\n",
       "      <td>https://spokane.craigslist.org/ctd/d/puyallup-...</td>\n",
       "      <td>https://images.craigslist.org/00000_3WomnsErfv...</td>\n",
       "      <td>Spokane</td>\n",
       "    </tr>\n",
       "  </tbody>\n",
       "</table>\n",
       "</div>"
      ],
      "text/plain": [
       "         CarMake        CarModel  CarYear  CarPrice CarCondition  MilesOnCar  \\\n",
       "444   Mitsubishi   Eclipse Cross     2022   22998.0          new          10   \n",
       "227   Mitsubishi   Outlander SEL     2022     459.0    excellent          10   \n",
       "3211  Mitsubishi   Outlander SEL     2022     472.0    excellent           4   \n",
       "703       Nissan       Sentra SR     2021   25505.0    excellent           5   \n",
       "2813        Jeep  Grand Cherokee     2021   74977.0         good          66   \n",
       "\n",
       "     PostingDate                                         PostingUrl  \\\n",
       "444   2021-05-23  https://kpr.craigslist.org/ctd/d/kennewick-202...   \n",
       "227   2021-05-21  https://bellingham.craigslist.org/ctd/d/spokan...   \n",
       "3211  2021-05-18  https://wenatchee.craigslist.org/ctd/d/spokane...   \n",
       "703   2021-05-21  https://kpr.craigslist.org/ctd/d/college-place...   \n",
       "2813  2021-05-22  https://spokane.craigslist.org/ctd/d/puyallup-...   \n",
       "\n",
       "                                           CarImageLink PostingRegion  \n",
       "444   https://images.craigslist.org/00W0W_90ubo4k04K...           Kpr  \n",
       "227   https://images.craigslist.org/00505_571ciMXtXg...    Bellingham  \n",
       "3211  https://images.craigslist.org/00Q0Q_3NSGPoZo8j...     Wenatchee  \n",
       "703   https://images.craigslist.org/00z0z_3J4oABMmG1...           Kpr  \n",
       "2813  https://images.craigslist.org/00000_3WomnsErfv...       Spokane  "
      ]
     },
     "execution_count": 20,
     "metadata": {},
     "output_type": "execute_result"
    }
   ],
   "source": [
    "craigslist = pd.read_csv(\"craiglistOutput.csv\")\n",
    "craigslist = craigslist.sort_values('CarYear', ascending=False)\n",
    "craigslist.head()"
   ]
  },
  {
   "cell_type": "code",
   "execution_count": 21,
   "metadata": {},
   "outputs": [
    {
     "data": {
      "text/plain": [
       "array(['Mitsubishi', 'Nissan', 'Jeep', 'Chevrolet', 'Toyota', nan,\n",
       "       'Volkswagen', 'Kia', 'Gmc', 'Dodge', 'Honda', 'Ford', 'Subaru',\n",
       "       'Cadillac', 'Hyundai', 'Ram', 'Chrysler', 'Porsche', 'Mazda',\n",
       "       'Bmw', 'Buick', 'Land Rover', 'Acura', 'Audi', 'Genesis', 'Lexus',\n",
       "       'Fiat', 'Tesla', 'Infiniti', 'Alfa Romeo', 'Mini', 'Smart',\n",
       "       'Jaguar', 'Lincoln', 'Aston Martin', 'Volvo', 'Scion', 'Mercedes',\n",
       "       'Ferrari', 'Mercury', 'Maserati', 'Pontiac', 'Bentley', 'Hummer',\n",
       "       'Saab', 'Saturn', 'Isuzu', 'Oldsmobile', 'Suzuki', 'Datsun',\n",
       "       'Plymouth', 'Packard'], dtype=object)"
      ]
     },
     "execution_count": 21,
     "metadata": {},
     "output_type": "execute_result"
    }
   ],
   "source": [
    "# all unique makes\n",
    "makes = craigslist.CarMake.unique()\n",
    "makes"
   ]
  },
  {
   "cell_type": "code",
   "execution_count": 22,
   "metadata": {},
   "outputs": [
    {
     "data": {
      "text/plain": [
       "array(['Eclipse Cross', 'Outlander SEL', 'Sentra SR', ...,\n",
       "       'special deluxe', 'truck', 'Model A'], dtype=object)"
      ]
     },
     "execution_count": 22,
     "metadata": {},
     "output_type": "execute_result"
    }
   ],
   "source": [
    "models = craigslist.CarModel.unique()\n",
    "models"
   ]
  },
  {
   "cell_type": "code",
   "execution_count": 23,
   "metadata": {},
   "outputs": [
    {
     "data": {
      "text/plain": [
       "array([2022, 2021, 2020, 2019, 2018, 2017, 2016, 2015, 2014, 2013, 2012,\n",
       "       2011, 2010, 2009, 2008, 2007, 2006, 2005, 2004, 2003, 2002, 2001,\n",
       "       2000, 1999, 1998, 1997, 1996, 1995, 1994, 1993, 1992, 1991, 1990,\n",
       "       1989, 1988, 1987, 1986, 1985, 1984, 1983, 1982, 1981, 1980, 1979,\n",
       "       1978, 1977, 1975, 1974, 1973, 1972, 1970, 1969, 1968, 1966, 1965,\n",
       "       1964, 1959, 1958, 1957, 1956, 1955, 1953, 1952, 1951, 1950, 1949,\n",
       "       1948, 1946, 1942, 1941, 1940, 1938, 1934, 1930,   -1], dtype=int64)"
      ]
     },
     "execution_count": 23,
     "metadata": {},
     "output_type": "execute_result"
    }
   ],
   "source": [
    "years = craigslist.CarYear.unique()\n",
    "years"
   ]
  },
  {
   "cell_type": "code",
   "execution_count": 24,
   "metadata": {},
   "outputs": [],
   "source": [
    "make_model_year = {}\n",
    "for make in makes:\n",
    "    make_model_year[make] = {}\n",
    "    \n",
    "    craigslist_slice = craigslist.loc[craigslist.CarMake == make, [\"CarModel\", \"CarYear\"]]\n",
    "    \n",
    "    for year in craigslist_slice.CarYear.unique():\n",
    "        temp = craigslist_slice.loc[craigslist.CarYear == year, \"CarModel\"].values\n",
    "        make_model_year[make][year] =temp"
   ]
  },
  {
   "cell_type": "code",
   "execution_count": 27,
   "metadata": {
    "scrolled": true
   },
   "outputs": [
    {
     "data": {
      "text/plain": [
       "{2022: array(['Eclipse Cross', 'Outlander SEL', 'Outlander SEL'], dtype=object),\n",
       " 2021: array(['Outlander Sport SE', 'Outlander PHEV LE'], dtype=object),\n",
       " 2020: array(['Outlander', 'Outlander Sport', 'Outlander', 'Mirage',\n",
       "        'Outlander SEL 4x4 gas', 'Outlander SEL 4x4 gas',\n",
       "        'Outlander SEL 4x4 gas'], dtype=object),\n",
       " 2019: array(['mirage'], dtype=object),\n",
       " 2017: array(['Lancer', 'MIRAGE G4'], dtype=object),\n",
       " 2014: array(['OUTLANDER SPORT'], dtype=object),\n",
       " 2013: array(['Lancer Evolution'], dtype=object),\n",
       " 2012: array(['outlander sport es 4d'], dtype=object),\n",
       " 2008: array(['LANCER', 'LANCER'], dtype=object),\n",
       " 2006: array(['eclipse gs 2dr hatchb', 'lancer'], dtype=object),\n",
       " 2004: array(['Endeavor'], dtype=object),\n",
       " 2003: array(['lancer'], dtype=object)}"
      ]
     },
     "execution_count": 27,
     "metadata": {},
     "output_type": "execute_result"
    }
   ],
   "source": [
    "make_model_year[\"Mitsubishi\"]"
   ]
  },
  {
   "cell_type": "code",
   "execution_count": 26,
   "metadata": {},
   "outputs": [
    {
     "data": {
      "text/plain": [
       "b'?({\"Models\":[{\"model_name\":\"Lancer\",\"model_make_id\":\"Mitsubishi\"},{\"model_name\":\"Lancer Evolution\",\"model_make_id\":\"Mitsubishi\"},{\"model_name\":\"Mirage\",\"model_make_id\":\"Mitsubishi\"},{\"model_name\":\"Outlander\",\"model_make_id\":\"Mitsubishi\"},{\"model_name\":\"Outlander Sport\",\"model_make_id\":\"Mitsubishi\"}]});'"
      ]
     },
     "execution_count": 26,
     "metadata": {},
     "output_type": "execute_result"
    }
   ],
   "source": [
    "req = requests.get(\"https://www.carqueryapi.com/api/0.3/?callback=?&cmd=getModels&make=mitsubishi&year=2021\", headers=headers).content"
   ]
  },
  {
   "cell_type": "code",
   "execution_count": null,
   "metadata": {},
   "outputs": [],
   "source": []
  }
 ],
 "metadata": {
  "kernelspec": {
   "display_name": "Python 3",
   "language": "python",
   "name": "python3"
  },
  "language_info": {
   "codemirror_mode": {
    "name": "ipython",
    "version": 3
   },
   "file_extension": ".py",
   "mimetype": "text/x-python",
   "name": "python",
   "nbconvert_exporter": "python",
   "pygments_lexer": "ipython3",
   "version": "3.8.3"
  }
 },
 "nbformat": 4,
 "nbformat_minor": 4
}
