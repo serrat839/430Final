{
 "cells": [
  {
   "cell_type": "code",
   "execution_count": 10,
   "metadata": {},
   "outputs": [],
   "source": [
    "import pandas as pd\n",
    "import numpy as np\n",
    "import time\n",
    "from bs4 import BeautifulSoup\n",
    "import requests\n",
    "import re"
   ]
  },
  {
   "cell_type": "markdown",
   "metadata": {},
   "source": [
    "# AIM: GET \n",
    "- pros \n",
    "- cons  \n",
    "- richtext \n",
    "- startingprice\n",
    "- what's new?\n",
    "\n",
    "# import/transfer scrape_mmy, clean_price, and parse_kbb"
   ]
  },
  {
   "cell_type": "code",
   "execution_count": 11,
   "metadata": {},
   "outputs": [],
   "source": [
    "base = \"https://www.kbb.com/{make}/{model}/{year}/\"\n",
    "make_ = \"audi\"\n",
    "model_ = \"q3\"\n",
    "year_ = \"2022\"\n",
    "#css-1ng2bh6-Row"
   ]
  },
  {
   "cell_type": "code",
   "execution_count": 17,
   "metadata": {
    "scrolled": true
   },
   "outputs": [
    {
     "data": {
      "text/plain": [
       "\"2022 Audi Q3 Expert ReviewPros\\nAll-wheel drive is standard\\nRoomy, high-quality cabin\\nCool tech\\nAudi style\\n\\nCons\\nNo hybrid variant\\nTransmission could be smoother\\n\\nWhat's New for 2022\\nInfotainment system updated\\nBlind-spot monitoring and parking sensors now standard\\nTop-view camera system comes with Premium Plus trim\\nContents of optional Convenience package changed\\nBrown-gray natural wood inlays offered in both trims\\n\\nPrice: The 2022 Audi Q3 starts at $35,995.\\nThe 2022 Audi Q3 is the most affordable way of getting into a new Audi SUV/crossover. Since it’s smaller than the Q5, the Q3 is theoretically a subcompact crossover. It doesn’t seem right describing it as such because it feels much roomier than that. Yet it competes in the same class as the BMW X1, Mercedes-Benz GLA-Class, and Volvo XC40 — all entry-level premium small crossovers.\\nHow long has the Audi Q3 been around? This second generation debuted for the 2019 model year. In 2020, we gave it our Best Buy award for the luxury subcompact SUV class. There’s plenty of justification for our recommendation. The Q3 is a quality machine that’s both tech-rich and user-friendly. And most people can agree that it’s stylish, especially compared with the rather conservative efforts of its German rivals.\\nDriving the  2022 Audi Q3For trundling around the city and suburbs, the lower-output 40 TSFI setup could be just fine. For longer trips and freeway stretches, we’d prefer the 45 TSFI’s 228 horsepower. And the Audi Q3 is definitely comfortable and refined enough for long journeys.\\nIt might take some initial tweaking over several miles to settle on the ideal driving position, but once it’s dialed in, the miles should melt away. Outward vision is good, and now that blind-spot monitoring is standard, there’s plenty of reassurance.\\nKeen drivers and corner-carvers really ought to look elsewhere, though. The 2022 Q3 appeals to those who prefer their luxury vehicles on the cosseting side. The only real wrong note comes from the transmission. Under heavy acceleration, the gearshift action tends to become clunky — not what we expect from a premium product. Be gentler on the gas, though, and the issue dissipates.\\nFavorite FeaturesMIB 3\\nThis strange term is the name of the updated infotainment system in the 2022 Q3. It uses chips that are 10 times faster than before, enabling better download speeds for the Wi-Fi, and includes Amazon Alexa compatibility, plus a hybrid radio function — if the Q3 loses radio signal, the system automatically locks on to the web-based streaming channel. Once back in the range, normal radio service is resumed.\\nTECHNOLOGY PACKAGE\\nAdmittedly, this is an additional expense that’s only available with the top Premium Plus trim. But it does bring all those great items that seem so right in an Audi, such as the 12.3-inch Virtual Cockpit digital driver information display, a 10.1-inch infotainment touchscreen with handwriting recognition, and a wonderful Bang & Olufsen sound system.\\n 2022 Audi Q3 InteriorDespite being the least expensive Audi SUV/crossover, the 2022 Q3 doesn’t cut corners with interior design or quality of materials. There’s that same clutter-phobic approach as in bigger and pricier Audi models. This year adds Aluminum Spectrum trim accents as standard, while both trims offer matte-finished brown-gray natural wood inlays.\\nThe Q3’s roomy cabin provides plenty of passenger space. How much rear legroom is in the Audi Q3? It’s 36.1 inches, exactly the same as the XC40, but not quite as generous as the X1 and GLA-Class. Still enough for an adult male of average size, with someone of the same dimensions in the seat up front. The rear seat also slides forward and back, with nearly six inches of travel. And a couple of indentations in the ceiling maximize rear headroom.\\nThe luggage area behind the rear seats is 23.7 cubic feet. Fold them down for a total cargo space of 48 cubic feet. That’s pretty good for the class.\\n 2022 Audi Q3 ExteriorBecoming an Audi owner is always a statement to the wider world that here’s someone with an eye for design. It’s part of the marque’s overall appeal. Since this generation of Q3 is still fresh, the styling represents where the company’s visual vocabulary is at right now.\\nThe roof rails are aluminum by default; the optional Black Optic package changes them to, predictably, black — along with other exterior elements like the grille and wheels.\\nSpeaking of wheels, both trims have 18-inch alloys as standard, with 19-inch multi-spoke rims on the options list. Audi offers three exterior paint choices that don’t cost extra (the others are $595), but one of those is orange.\\n 2022 Audi Q3 Standard FeaturesIt’s decidedly luxurious even at the lowest trim level. The 2022 Q3 comes with leather upholstery, tri-zone automatic climate control, powered tailgate, powered panoramic sunroof, heated front seats, 10.25-inch driver information display, and selectable driving modes.\\nSafety features include hill descent control, forward-collision avoidance with automatic emergency braking, blind-spot monitoring, front/rear parking sensors, and automatic high beams. And the updated infotainment system has an 8.8-inch touchscreen and four USB ports (including Type-C), plus Apple CarPlay/Android Auto smartphone integration.\\n 2022 Audi Q3 OptionsPremium Plus now comes with a top-view/360-degree camera system. It also adds keyless entry/ignition, adaptive cruise control with Traffic Jam Assist (see our Safety section), self-dimming rearview mirror, wireless charging, phone signal booster, and hands-free tailgate operation.\\nThe optional Convenience package for Premium trim (which used to provide some of the newly standard items) now includes 8-way power-adjustable front seats with memory settings, self-dimming/power-folding side mirror with memory, and a garage door opener. Premium Plus is eligible for a self-parking system, plus the aforementioned Technology package which also includes navigation, Wi-Fi, road sign recognition, and wireless Apple CarPlay.\\n 2022 Audi Q3 EngineA turbocharged 2.0-liter 4-cylinder engine is at the heart of both 2022 Q3 drivetrains. In the 40 TSFI, it produces 184 horsepower and 221 lb-ft of torque. The 45 TSFI enjoys 228 horsepower and 258 lb-ft of torque.\\nBoth link up to an 8-speed automatic transmission, and all-wheel drive (always referred to by Audi as quattro) is standard across the range. Regular gasoline is perfectly adequate.\\nThe fuel economy figures quoted here are from 2021, but we expect no difference in 2022.\\nTurbocharged 2.0-liter inline-4 (40 TSFI)\\n184 horsepower\\n221 lb-ft of torque\\nEPA city/highway fuel economy: 22/30 mpg\\nTurbocharged 2.0-liter inline-4 (45 TSFI)\\n228 horsepower\\n258 lb-ft of torque\\nEPA city/highway fuel economy: 20/28 mpg\\nHow Much Does the  2022 Audi Q3  Cost? With the 40 TSFI drivetrain, the 2022 Q3 in Premium trim has a Manufacturer’s Suggested Retail Price (MSRP) of $34,900, plus a destination charge. At the top end of the range, a 2022 Q3 45 TSFI in Premium Plus trim is $40,500.\\nAudi often has an even higher Prestige trim, but not with the Q3. With a bit of devil-may-care option selection, it’s easy enough to add another $5k to the final amount.\\nPutting these prices in context, the BMW X1 starts a little pricier, but doesn’t have all-wheel drive as standard. It’s a similar story with the Mercedes-Benz GLA-Class and Volvo XC40. The X1, however, packs the same power as the more expensive Q3 45 TSFI.\\nBefore buying, check the KBB.com Fair Purchase Price to find out what others in your area paid for their new Q3. We expect resale values of the Q3 to be just above average, but the Volvo XC40’s should be stronger.\\nRead Full Review\""
      ]
     },
     "execution_count": 17,
     "metadata": {},
     "output_type": "execute_result"
    }
   ],
   "source": [
    "def scrape_mmy(make, model, year):\n",
    "    url = base.format(make=make, model=model, year=year)\n",
    "    response = requests.get(url)\n",
    "    pageTree = BeautifulSoup(response.content, \"html.parser\").body\n",
    "    return pageTree.find(\"div\", class_=\"css-1vezu6i-GridContainer\").text\n",
    "\n",
    "time.sleep(1)\n",
    "scrape_mmy(make_, model_, year_)"
   ]
  },
  {
   "cell_type": "code",
   "execution_count": 18,
   "metadata": {},
   "outputs": [],
   "source": [
    "x = scrape_mmy(make_, model_, year_)"
   ]
  },
  {
   "cell_type": "code",
   "execution_count": 58,
   "metadata": {},
   "outputs": [
    {
     "data": {
      "text/plain": [
       "'50000'"
      ]
     },
     "execution_count": 58,
     "metadata": {},
     "output_type": "execute_result"
    }
   ],
   "source": [
    "def clean_price(text):\n",
    "    text = text.replace(\",\", \"\")\n",
    "    text = re.findall(\"\\\\$\\\\d+\", text)\n",
    "    return text[0][1:]\n",
    "clean_price(\"$50000\")"
   ]
  },
  {
   "cell_type": "code",
   "execution_count": 59,
   "metadata": {
    "scrolled": true
   },
   "outputs": [
    {
     "name": "stdout",
     "output_type": "stream",
     "text": [
      "{'pros': 'Pros\\nAll-wheel drive is standard\\nRoomy, high-quality cabin\\nCool tech\\nAudi style', 'cons': 'Cons\\nNo hybrid variant\\nTransmission could be smoother', 'new': \"What's New for 2022\\nInfotainment system updated\\nBlind-spot monitoring and parking sensors now standard\\nTop-view camera system comes with Premium Plus trim\\nContents of optional Convenience package changed\\nBrown-gray natural wood inlays offered in both trims\", 'price': '35995', 'review': 'The 2022 Audi Q3 is the most affordable way of getting into a new Audi SUV/crossover. Since it’s smaller than the Q5, the Q3 is theoretically a subcompact crossover. It doesn’t seem right describing it as such because it feels much roomier than that. Yet it competes in the same class as the BMW X1, Mercedes-Benz GLA-Class, and Volvo XC40 — all entry-level premium small crossovers.\\nHow long has the Audi Q3 been around? This second generation debuted for the 2019 model year. In 2020, we gave it our Best Buy award for the luxury subcompact SUV class. There’s plenty of justification for our recommendation. The Q3 is a quality machine that’s both tech-rich and user-friendly. And most people can agree that it’s stylish, especially compared with the rather conservative efforts of its German rivals.\\nDriving the  2022 Audi Q3For trundling around the city and suburbs, the lower-output 40 TSFI setup could be just fine. For longer trips and freeway stretches, we’d prefer the 45 TSFI’s 228 horsepower. And the Audi Q3 is definitely comfortable and refined enough for long journeys.\\nIt might take some initial tweaking over several miles to settle on the ideal driving position, but once it’s dialed in, the miles should melt away. Outward vision is good, and now that blind-spot monitoring is standard, there’s plenty of reassurance.\\nKeen drivers and corner-carvers really ought to look elsewhere, though. The 2022 Q3 appeals to those who prefer their luxury vehicles on the cosseting side. The only real wrong note comes from the transmission. Under heavy acceleration, the gearshift action tends to become clunky — not what we expect from a premium product. Be gentler on the gas, though, and the issue dissipates.\\nFavorite FeaturesMIB 3\\nThis strange term is the name of the updated infotainment system in the 2022 Q3. It uses chips that are 10 times faster than before, enabling better download speeds for the Wi-Fi, and includes Amazon Alexa compatibility, plus a hybrid radio function — if the Q3 loses radio signal, the system automatically locks on to the web-based streaming channel. Once back in the range, normal radio service is resumed.\\nTECHNOLOGY PACKAGE\\nAdmittedly, this is an additional expense that’s only available with the top Premium Plus trim. But it does bring all those great items that seem so right in an Audi, such as the 12.3-inch Virtual Cockpit digital driver information display, a 10.1-inch infotainment touchscreen with handwriting recognition, and a wonderful Bang & Olufsen sound system.\\n 2022 Audi Q3 InteriorDespite being the least expensive Audi SUV/crossover, the 2022 Q3 doesn’t cut corners with interior design or quality of materials. There’s that same clutter-phobic approach as in bigger and pricier Audi models. This year adds Aluminum Spectrum trim accents as standard, while both trims offer matte-finished brown-gray natural wood inlays.\\nThe Q3’s roomy cabin provides plenty of passenger space. How much rear legroom is in the Audi Q3? It’s 36.1 inches, exactly the same as the XC40, but not quite as generous as the X1 and GLA-Class. Still enough for an adult male of average size, with someone of the same dimensions in the seat up front. The rear seat also slides forward and back, with nearly six inches of travel. And a couple of indentations in the ceiling maximize rear headroom.\\nThe luggage area behind the rear seats is 23.7 cubic feet. Fold them down for a total cargo space of 48 cubic feet. That’s pretty good for the class.\\n 2022 Audi Q3 ExteriorBecoming an Audi owner is always a statement to the wider world that here’s someone with an eye for design. It’s part of the marque’s overall appeal. Since this generation of Q3 is still fresh, the styling represents where the company’s visual vocabulary is at right now.\\nThe roof rails are aluminum by default; the optional Black Optic package changes them to, predictably, black — along with other exterior elements like the grille and wheels.\\nSpeaking of wheels, both trims have 18-inch alloys as standard, with 19-inch multi-spoke rims on the options list. Audi offers three exterior paint choices that don’t cost extra (the others are $595), but one of those is orange.\\n 2022 Audi Q3 Standard FeaturesIt’s decidedly luxurious even at the lowest trim level. The 2022 Q3 comes with leather upholstery, tri-zone automatic climate control, powered tailgate, powered panoramic sunroof, heated front seats, 10.25-inch driver information display, and selectable driving modes.\\nSafety features include hill descent control, forward-collision avoidance with automatic emergency braking, blind-spot monitoring, front/rear parking sensors, and automatic high beams. And the updated infotainment system has an 8.8-inch touchscreen and four USB ports (including Type-C), plus Apple CarPlay/Android Auto smartphone integration.\\n 2022 Audi Q3 OptionsPremium Plus now comes with a top-view/360-degree camera system. It also adds keyless entry/ignition, adaptive cruise control with Traffic Jam Assist (see our Safety section), self-dimming rearview mirror, wireless charging, phone signal booster, and hands-free tailgate operation.\\nThe optional Convenience package for Premium trim (which used to provide some of the newly standard items) now includes 8-way power-adjustable front seats with memory settings, self-dimming/power-folding side mirror with memory, and a garage door opener. Premium Plus is eligible for a self-parking system, plus the aforementioned Technology package which also includes navigation, Wi-Fi, road sign recognition, and wireless Apple CarPlay.\\n 2022 Audi Q3 EngineA turbocharged 2.0-liter 4-cylinder engine is at the heart of both 2022 Q3 drivetrains. In the 40 TSFI, it produces 184 horsepower and 221 lb-ft of torque. The 45 TSFI enjoys 228 horsepower and 258 lb-ft of torque.\\nBoth link up to an 8-speed automatic transmission, and all-wheel drive (always referred to by Audi as quattro) is standard across the range. Regular gasoline is perfectly adequate.\\nThe fuel economy figures quoted here are from 2021, but we expect no difference in 2022.\\nTurbocharged 2.0-liter inline-4 (40 TSFI)\\n184 horsepower\\n221 lb-ft of torque\\nEPA city/highway fuel economy: 22/30 mpg\\nTurbocharged 2.0-liter inline-4 (45 TSFI)\\n228 horsepower\\n258 lb-ft of torque\\nEPA city/highway fuel economy: 20/28 mpg\\nHow Much Does the  2022 Audi Q3  Cost? With the 40 TSFI drivetrain, the 2022 Q3 in Premium trim has a Manufacturer’s Suggested Retail Price (MSRP) of $34,900, plus a destination charge. At the top end of the range, a 2022 Q3 45 TSFI in Premium Plus trim is $40,500.\\nAudi often has an even higher Prestige trim, but not with the Q3. With a bit of devil-may-care option selection, it’s easy enough to add another $5k to the final amount.\\nPutting these prices in context, the BMW X1 starts a little pricier, but doesn’t have all-wheel drive as standard. It’s a similar story with the Mercedes-Benz GLA-Class and Volvo XC40. The X1, however, packs the same power as the more expensive Q3 45 TSFI.\\nBefore buying, check the KBB.com Fair Purchase Price to find out what others in your area paid for their new Q3. We expect resale values of the Q3 to be just above average, but the Volvo XC40’s should be stronger.\\nRead Full Review'}\n"
     ]
    }
   ],
   "source": [
    "def parse_kbb(text):\n",
    "    # locate where each section is\n",
    "    text_norm = text.lower()\n",
    "    pros = text_norm.find(\"pros\")\n",
    "    cons = text_norm.find(\"cons\")\n",
    "    whats_new = text_norm.find(\"what's new for\")\n",
    "    price = text_norm.find(\"price:\")\n",
    "    end_of_price = text_norm.find(\"\\n\", price)\n",
    "\n",
    "    # slice and dice the text\n",
    "    pro_text = x[pros:cons].strip()\n",
    "    cons_text = x[cons:whats_new].strip()\n",
    "    whats_new_text = x[whats_new:price].strip()\n",
    "    price_text = x[price:end_of_price].strip()\n",
    "    price_text = clean_price(price_text)\n",
    "    review = x[end_of_price:].strip()\n",
    "    return {\n",
    "        \"pros\": pro_text,\n",
    "        \"cons\": cons_text,\n",
    "        \"new\": whats_new_text,\n",
    "        \"price\": price_text,\n",
    "        \"review\": review\n",
    "    }\n",
    "print(parse_kbb(x))"
   ]
  },
  {
   "cell_type": "code",
   "execution_count": null,
   "metadata": {},
   "outputs": [],
   "source": []
  }
 ],
 "metadata": {
  "kernelspec": {
   "display_name": "Python 3",
   "language": "python",
   "name": "python3"
  },
  "language_info": {
   "codemirror_mode": {
    "name": "ipython",
    "version": 3
   },
   "file_extension": ".py",
   "mimetype": "text/x-python",
   "name": "python",
   "nbconvert_exporter": "python",
   "pygments_lexer": "ipython3",
   "version": "3.8.3"
  }
 },
 "nbformat": 4,
 "nbformat_minor": 4
}
